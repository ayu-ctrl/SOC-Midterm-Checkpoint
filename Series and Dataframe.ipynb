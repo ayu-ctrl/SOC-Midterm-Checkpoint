{
 "cells": [
  {
   "cell_type": "code",
   "execution_count": 2,
   "id": "fcb815e3-c7f4-40b7-9254-f19f21b06192",
   "metadata": {},
   "outputs": [],
   "source": [
    "import pandas as pd\n",
    "import numpy as np"
   ]
  },
  {
   "cell_type": "code",
   "execution_count": 3,
   "id": "dac96fa5-7744-41eb-bdba-5c0fa953d414",
   "metadata": {},
   "outputs": [
    {
     "name": "stdout",
     "output_type": "stream",
     "text": [
      "1    24.0\n",
      "2    24.0\n",
      "3    24.0\n",
      "4    24.0\n",
      "5     NaN\n",
      "6     NaN\n",
      "7     NaN\n",
      "dtype: float64\n"
     ]
    }
   ],
   "source": [
    "#one D\n",
    "s1=pd.Series(12, index=[1,2,3,4,5,6,7])\n",
    "s2=pd.Series(12, index=[1, 2, 3, 4])\n",
    "print (s1+s2)"
   ]
  },
  {
   "cell_type": "code",
   "execution_count": 5,
   "id": "69add916-8bb9-4283-a23c-4e4113485fc4",
   "metadata": {},
   "outputs": [
    {
     "name": "stdout",
     "output_type": "stream",
     "text": [
      "   0\n",
      "0  1\n",
      "1  2\n",
      "2  3\n",
      "3  4\n",
      "<class 'pandas.core.frame.DataFrame'>\n"
     ]
    }
   ],
   "source": [
    "# DataFrame\n",
    "l=[1,2,3,4]\n",
    "var=pd.DataFrame(l)\n",
    "print(var)\n",
    "print(type(var))"
   ]
  },
  {
   "cell_type": "code",
   "execution_count": 14,
   "id": "8e2fe797-98f6-41b3-b416-1548c9381206",
   "metadata": {},
   "outputs": [
    {
     "name": "stdout",
     "output_type": "stream",
     "text": [
      "   a\n",
      "a  1\n",
      "s  2\n",
      "d  3\n",
      "f  4\n",
      "4\n"
     ]
    },
    {
     "name": "stderr",
     "output_type": "stream",
     "text": [
      "C:\\Users\\rd357\\AppData\\Local\\Temp\\ipykernel_6416\\4260794218.py:4: FutureWarning: Series.__getitem__ treating keys as positions is deprecated. In a future version, integer keys will always be treated as labels (consistent with DataFrame behavior). To access a value by position, use `ser.iloc[pos]`\n",
      "  print(var1[\"a\"][3])\n"
     ]
    }
   ],
   "source": [
    "d={\"a\":[1,2,3,4], \"s\":[1,2,3,4]}\n",
    "var1=pd.DataFrame(d, columns=[\"a\"], index=[\"a\", \"s\", \"d\", \"f\"])\n",
    "print (var1)\n",
    "print(var1[\"a\"][3])"
   ]
  },
  {
   "cell_type": "code",
   "execution_count": 16,
   "id": "540567ac-fc1b-41d6-9ae3-a90929d03ebe",
   "metadata": {},
   "outputs": [
    {
     "name": "stdout",
     "output_type": "stream",
     "text": [
      "   0  1  2  3\n",
      "0  1  2  3  4\n",
      "1  1  2  3  4\n"
     ]
    }
   ],
   "source": [
    "list=[[1,2,3,4], [1,2,3,4]]\n",
    "var2=pd.DataFrame(list)\n",
    "print (var2)"
   ]
  },
  {
   "cell_type": "code",
   "execution_count": null,
   "id": "d1ef6182-797c-47a7-a02d-d1781d04c37a",
   "metadata": {},
   "outputs": [],
   "source": []
  }
 ],
 "metadata": {
  "kernelspec": {
   "display_name": "Python 3 (ipykernel)",
   "language": "python",
   "name": "python3"
  },
  "language_info": {
   "codemirror_mode": {
    "name": "ipython",
    "version": 3
   },
   "file_extension": ".py",
   "mimetype": "text/x-python",
   "name": "python",
   "nbconvert_exporter": "python",
   "pygments_lexer": "ipython3",
   "version": "3.13.3"
  }
 },
 "nbformat": 4,
 "nbformat_minor": 5
}
